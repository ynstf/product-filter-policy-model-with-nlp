{
 "cells": [
  {
   "cell_type": "markdown",
   "id": "25db81fe",
   "metadata": {},
   "source": [
    "# manipulation of data"
   ]
  },
  {
   "cell_type": "markdown",
   "id": "4ba57a1a",
   "metadata": {},
   "source": [
    "## read and show data"
   ]
  },
  {
   "cell_type": "code",
   "execution_count": 172,
   "id": "2137a302",
   "metadata": {},
   "outputs": [
    {
     "data": {
      "text/html": [
       "<div>\n",
       "<style scoped>\n",
       "    .dataframe tbody tr th:only-of-type {\n",
       "        vertical-align: middle;\n",
       "    }\n",
       "\n",
       "    .dataframe tbody tr th {\n",
       "        vertical-align: top;\n",
       "    }\n",
       "\n",
       "    .dataframe thead th {\n",
       "        text-align: right;\n",
       "    }\n",
       "</style>\n",
       "<table border=\"1\" class=\"dataframe\">\n",
       "  <thead>\n",
       "    <tr style=\"text-align: right;\">\n",
       "      <th></th>\n",
       "      <th>Name of Product</th>\n",
       "      <th>Is Accepted Policy</th>\n",
       "    </tr>\n",
       "  </thead>\n",
       "  <tbody>\n",
       "    <tr>\n",
       "      <th>0</th>\n",
       "      <td>Ultra-Thin Gaming Laptop with RGB Backlit Keyb...</td>\n",
       "      <td>Yes</td>\n",
       "    </tr>\n",
       "    <tr>\n",
       "      <th>1</th>\n",
       "      <td>Deluxe Espresso Machine with Integrated Milk F...</td>\n",
       "      <td>Yes</td>\n",
       "    </tr>\n",
       "    <tr>\n",
       "      <th>2</th>\n",
       "      <td>Advanced Running Shoes with Responsive Cushion...</td>\n",
       "      <td>Yes</td>\n",
       "    </tr>\n",
       "    <tr>\n",
       "      <th>3</th>\n",
       "      <td>Latest iPhone Pro Max with Triple-Camera Syste...</td>\n",
       "      <td>Yes</td>\n",
       "    </tr>\n",
       "    <tr>\n",
       "      <th>4</th>\n",
       "      <td>Next-Gen Gaming Console with 4K Graphics and E...</td>\n",
       "      <td>Yes</td>\n",
       "    </tr>\n",
       "    <tr>\n",
       "      <th>5</th>\n",
       "      <td>Captivating Romantic Novel Set in the Enchanti...</td>\n",
       "      <td>No</td>\n",
       "    </tr>\n",
       "    <tr>\n",
       "      <th>6</th>\n",
       "      <td>Realistic Toy Sniper Rifle for Outdoor Shootin...</td>\n",
       "      <td>No</td>\n",
       "    </tr>\n",
       "    <tr>\n",
       "      <th>7</th>\n",
       "      <td>Breathtaking Action Movie Marathon in 4K Ultra...</td>\n",
       "      <td>Yes</td>\n",
       "    </tr>\n",
       "    <tr>\n",
       "      <th>8</th>\n",
       "      <td>Organic Herbal Infusion Collection for Relaxat...</td>\n",
       "      <td>No</td>\n",
       "    </tr>\n",
       "    <tr>\n",
       "      <th>9</th>\n",
       "      <td>Smart Fitness Tracker with ECG and Blood Oxyge...</td>\n",
       "      <td>Yes</td>\n",
       "    </tr>\n",
       "  </tbody>\n",
       "</table>\n",
       "</div>"
      ],
      "text/plain": [
       "                                     Name of Product Is Accepted Policy\n",
       "0  Ultra-Thin Gaming Laptop with RGB Backlit Keyb...                Yes\n",
       "1  Deluxe Espresso Machine with Integrated Milk F...                Yes\n",
       "2  Advanced Running Shoes with Responsive Cushion...                Yes\n",
       "3  Latest iPhone Pro Max with Triple-Camera Syste...                Yes\n",
       "4  Next-Gen Gaming Console with 4K Graphics and E...                Yes\n",
       "5  Captivating Romantic Novel Set in the Enchanti...                 No\n",
       "6  Realistic Toy Sniper Rifle for Outdoor Shootin...                 No\n",
       "7  Breathtaking Action Movie Marathon in 4K Ultra...                Yes\n",
       "8  Organic Herbal Infusion Collection for Relaxat...                 No\n",
       "9  Smart Fitness Tracker with ECG and Blood Oxyge...                Yes"
      ]
     },
     "execution_count": 172,
     "metadata": {},
     "output_type": "execute_result"
    }
   ],
   "source": [
    "import pandas as pd\n",
    "data = pd.read_csv('data.txt')\n",
    "data.head(10)"
   ]
  },
  {
   "cell_type": "markdown",
   "id": "6c41e985",
   "metadata": {},
   "source": [
    "## describe data"
   ]
  },
  {
   "cell_type": "code",
   "execution_count": 173,
   "id": "e1e10c97",
   "metadata": {},
   "outputs": [
    {
     "data": {
      "text/html": [
       "<div>\n",
       "<style scoped>\n",
       "    .dataframe tbody tr th:only-of-type {\n",
       "        vertical-align: middle;\n",
       "    }\n",
       "\n",
       "    .dataframe tbody tr th {\n",
       "        vertical-align: top;\n",
       "    }\n",
       "\n",
       "    .dataframe thead th {\n",
       "        text-align: right;\n",
       "    }\n",
       "</style>\n",
       "<table border=\"1\" class=\"dataframe\">\n",
       "  <thead>\n",
       "    <tr style=\"text-align: right;\">\n",
       "      <th></th>\n",
       "      <th>Name of Product</th>\n",
       "      <th>Is Accepted Policy</th>\n",
       "    </tr>\n",
       "  </thead>\n",
       "  <tbody>\n",
       "    <tr>\n",
       "      <th>count</th>\n",
       "      <td>3150</td>\n",
       "      <td>3150</td>\n",
       "    </tr>\n",
       "    <tr>\n",
       "      <th>unique</th>\n",
       "      <td>2342</td>\n",
       "      <td>3</td>\n",
       "    </tr>\n",
       "    <tr>\n",
       "      <th>top</th>\n",
       "      <td>Dearjoyee sexy dolls for men silicon xxx-18-ww...</td>\n",
       "      <td>No</td>\n",
       "    </tr>\n",
       "    <tr>\n",
       "      <th>freq</th>\n",
       "      <td>78</td>\n",
       "      <td>1667</td>\n",
       "    </tr>\n",
       "  </tbody>\n",
       "</table>\n",
       "</div>"
      ],
      "text/plain": [
       "                                          Name of Product Is Accepted Policy\n",
       "count                                                3150               3150\n",
       "unique                                               2342                  3\n",
       "top     Dearjoyee sexy dolls for men silicon xxx-18-ww...                 No\n",
       "freq                                                   78               1667"
      ]
     },
     "execution_count": 173,
     "metadata": {},
     "output_type": "execute_result"
    }
   ],
   "source": [
    "data.describe()"
   ]
  },
  {
   "cell_type": "code",
   "execution_count": 174,
   "id": "13470685",
   "metadata": {},
   "outputs": [
    {
     "name": "stdout",
     "output_type": "stream",
     "text": [
      "unique values in Is Accepted Policy ['Yes' 'No' 'Is Accepted Policy']\n"
     ]
    }
   ],
   "source": [
    "print(\"unique values in Is Accepted Policy\",data[\"Is Accepted Policy\"].unique())"
   ]
  },
  {
   "cell_type": "code",
   "execution_count": 175,
   "id": "693e4bbe",
   "metadata": {
    "scrolled": true
   },
   "outputs": [
    {
     "name": "stdout",
     "output_type": "stream",
     "text": [
      "the data with No in Is Accepted Policy 1667\n",
      "the data with Yes in Is Accepted Policy 1474\n"
     ]
    }
   ],
   "source": [
    "print('the data with No in Is Accepted Policy',len(data[data[\"Is Accepted Policy\"]==\"No\"]))\n",
    "print('the data with Yes in Is Accepted Policy',len(data[data[\"Is Accepted Policy\"]==\"Yes\"]))"
   ]
  },
  {
   "cell_type": "markdown",
   "id": "7f6465e5",
   "metadata": {},
   "source": [
    "\n",
    "\n",
    "## delete all data with Accepted Policy = \"Is Accepted Policy\"\n",
    "\n",
    "\n",
    "\n"
   ]
  },
  {
   "cell_type": "code",
   "execution_count": 176,
   "id": "aec86592",
   "metadata": {},
   "outputs": [],
   "source": [
    "data = data[data[\"Is Accepted Policy\"]!=\"Is Accepted Policy\"]"
   ]
  },
  {
   "cell_type": "code",
   "execution_count": 177,
   "id": "bd19374e",
   "metadata": {},
   "outputs": [
    {
     "name": "stdout",
     "output_type": "stream",
     "text": [
      "unique values in Is Accepted Policy ['Yes' 'No']\n"
     ]
    }
   ],
   "source": [
    "print(\"unique values in Is Accepted Policy\",data[\"Is Accepted Policy\"].unique())"
   ]
  },
  {
   "cell_type": "markdown",
   "id": "ed5d6421",
   "metadata": {},
   "source": [
    "## add new column describe the prodact policy state numericly"
   ]
  },
  {
   "cell_type": "code",
   "execution_count": 178,
   "id": "cb480581",
   "metadata": {},
   "outputs": [],
   "source": [
    "data.loc[:,\"agree value\"] = data['Is Accepted Policy'].apply(lambda x: 1 if str(x) == \"Yes\" else 0)"
   ]
  },
  {
   "cell_type": "code",
   "execution_count": 179,
   "id": "b03c6041",
   "metadata": {},
   "outputs": [
    {
     "data": {
      "text/html": [
       "<div>\n",
       "<style scoped>\n",
       "    .dataframe tbody tr th:only-of-type {\n",
       "        vertical-align: middle;\n",
       "    }\n",
       "\n",
       "    .dataframe tbody tr th {\n",
       "        vertical-align: top;\n",
       "    }\n",
       "\n",
       "    .dataframe thead th {\n",
       "        text-align: right;\n",
       "    }\n",
       "</style>\n",
       "<table border=\"1\" class=\"dataframe\">\n",
       "  <thead>\n",
       "    <tr style=\"text-align: right;\">\n",
       "      <th></th>\n",
       "      <th>Name of Product</th>\n",
       "      <th>Is Accepted Policy</th>\n",
       "      <th>agree value</th>\n",
       "    </tr>\n",
       "  </thead>\n",
       "  <tbody>\n",
       "    <tr>\n",
       "      <th>0</th>\n",
       "      <td>Ultra-Thin Gaming Laptop with RGB Backlit Keyb...</td>\n",
       "      <td>Yes</td>\n",
       "      <td>1</td>\n",
       "    </tr>\n",
       "    <tr>\n",
       "      <th>1</th>\n",
       "      <td>Deluxe Espresso Machine with Integrated Milk F...</td>\n",
       "      <td>Yes</td>\n",
       "      <td>1</td>\n",
       "    </tr>\n",
       "    <tr>\n",
       "      <th>2</th>\n",
       "      <td>Advanced Running Shoes with Responsive Cushion...</td>\n",
       "      <td>Yes</td>\n",
       "      <td>1</td>\n",
       "    </tr>\n",
       "    <tr>\n",
       "      <th>3</th>\n",
       "      <td>Latest iPhone Pro Max with Triple-Camera Syste...</td>\n",
       "      <td>Yes</td>\n",
       "      <td>1</td>\n",
       "    </tr>\n",
       "    <tr>\n",
       "      <th>4</th>\n",
       "      <td>Next-Gen Gaming Console with 4K Graphics and E...</td>\n",
       "      <td>Yes</td>\n",
       "      <td>1</td>\n",
       "    </tr>\n",
       "    <tr>\n",
       "      <th>5</th>\n",
       "      <td>Captivating Romantic Novel Set in the Enchanti...</td>\n",
       "      <td>No</td>\n",
       "      <td>0</td>\n",
       "    </tr>\n",
       "    <tr>\n",
       "      <th>6</th>\n",
       "      <td>Realistic Toy Sniper Rifle for Outdoor Shootin...</td>\n",
       "      <td>No</td>\n",
       "      <td>0</td>\n",
       "    </tr>\n",
       "    <tr>\n",
       "      <th>7</th>\n",
       "      <td>Breathtaking Action Movie Marathon in 4K Ultra...</td>\n",
       "      <td>Yes</td>\n",
       "      <td>1</td>\n",
       "    </tr>\n",
       "    <tr>\n",
       "      <th>8</th>\n",
       "      <td>Organic Herbal Infusion Collection for Relaxat...</td>\n",
       "      <td>No</td>\n",
       "      <td>0</td>\n",
       "    </tr>\n",
       "    <tr>\n",
       "      <th>9</th>\n",
       "      <td>Smart Fitness Tracker with ECG and Blood Oxyge...</td>\n",
       "      <td>Yes</td>\n",
       "      <td>1</td>\n",
       "    </tr>\n",
       "  </tbody>\n",
       "</table>\n",
       "</div>"
      ],
      "text/plain": [
       "                                     Name of Product Is Accepted Policy  \\\n",
       "0  Ultra-Thin Gaming Laptop with RGB Backlit Keyb...                Yes   \n",
       "1  Deluxe Espresso Machine with Integrated Milk F...                Yes   \n",
       "2  Advanced Running Shoes with Responsive Cushion...                Yes   \n",
       "3  Latest iPhone Pro Max with Triple-Camera Syste...                Yes   \n",
       "4  Next-Gen Gaming Console with 4K Graphics and E...                Yes   \n",
       "5  Captivating Romantic Novel Set in the Enchanti...                 No   \n",
       "6  Realistic Toy Sniper Rifle for Outdoor Shootin...                 No   \n",
       "7  Breathtaking Action Movie Marathon in 4K Ultra...                Yes   \n",
       "8  Organic Herbal Infusion Collection for Relaxat...                 No   \n",
       "9  Smart Fitness Tracker with ECG and Blood Oxyge...                Yes   \n",
       "\n",
       "   agree value  \n",
       "0            1  \n",
       "1            1  \n",
       "2            1  \n",
       "3            1  \n",
       "4            1  \n",
       "5            0  \n",
       "6            0  \n",
       "7            1  \n",
       "8            0  \n",
       "9            1  "
      ]
     },
     "execution_count": 179,
     "metadata": {},
     "output_type": "execute_result"
    }
   ],
   "source": [
    "data.head(10)"
   ]
  },
  {
   "cell_type": "markdown",
   "id": "c18146c3",
   "metadata": {},
   "source": [
    "## show deplicated values"
   ]
  },
  {
   "cell_type": "code",
   "execution_count": 180,
   "id": "606d9f33",
   "metadata": {},
   "outputs": [
    {
     "name": "stdout",
     "output_type": "stream",
     "text": [
      "all titles of products 3141\n"
     ]
    }
   ],
   "source": [
    "print(\"all titles of products\",len(data['Name of Product']))"
   ]
  },
  {
   "cell_type": "code",
   "execution_count": 181,
   "id": "0a02b4d9",
   "metadata": {},
   "outputs": [
    {
     "name": "stdout",
     "output_type": "stream",
     "text": [
      "unique titles of product 2341\n"
     ]
    }
   ],
   "source": [
    "print('unique titles of product',len(data['Name of Product'].unique()))"
   ]
  },
  {
   "cell_type": "code",
   "execution_count": 182,
   "id": "3a145985",
   "metadata": {},
   "outputs": [
    {
     "name": "stdout",
     "output_type": "stream",
     "text": [
      "i have 800 repeted value\n"
     ]
    }
   ],
   "source": [
    "print(\"i have\" ,len(data['Name of Product']) - len(data['Name of Product'].unique()), 'repeted value')"
   ]
  },
  {
   "cell_type": "code",
   "execution_count": 183,
   "id": "d8928ca0",
   "metadata": {},
   "outputs": [
    {
     "name": "stdout",
     "output_type": "stream",
     "text": [
      "Comprehensive Home Gym Equipment Set for Total Body Fitness\n",
      "Comprehensive Home Gym Equipment Set for Total Body Fitness\n"
     ]
    }
   ],
   "source": [
    "print(list(data['Name of Product'])[355])\n",
    "print(list(data['Name of Product'])[27])"
   ]
  },
  {
   "cell_type": "markdown",
   "id": "509700fc",
   "metadata": {},
   "source": [
    "## delete all repeted values"
   ]
  },
  {
   "cell_type": "code",
   "execution_count": 184,
   "id": "4ed0a26d",
   "metadata": {},
   "outputs": [
    {
     "name": "stdout",
     "output_type": "stream",
     "text": [
      "Length after removing duplicates: 2341\n"
     ]
    }
   ],
   "source": [
    "data_no_duplicates = data.drop_duplicates(subset='Name of Product', keep='first')\n",
    "# Print the length of the new DataFrame to confirm the removal of duplicates\n",
    "print(\"Length after removing duplicates:\", len(data_no_duplicates))"
   ]
  },
  {
   "cell_type": "code",
   "execution_count": 185,
   "id": "e84151ad",
   "metadata": {},
   "outputs": [],
   "source": [
    "data = data_no_duplicates"
   ]
  },
  {
   "cell_type": "code",
   "execution_count": 186,
   "id": "b38568f8",
   "metadata": {},
   "outputs": [
    {
     "name": "stdout",
     "output_type": "stream",
     "text": [
      "the data with No in Is Accepted Policy 1042\n",
      "the data with Yes in Is Accepted Policy 1299\n"
     ]
    }
   ],
   "source": [
    "print('the data with No in Is Accepted Policy',len(data[data[\"Is Accepted Policy\"]==\"No\"]))\n",
    "print('the data with Yes in Is Accepted Policy',len(data[data[\"Is Accepted Policy\"]==\"Yes\"]))"
   ]
  },
  {
   "cell_type": "markdown",
   "id": "0e640700",
   "metadata": {},
   "source": [
    "# Text Preprocessing"
   ]
  },
  {
   "cell_type": "markdown",
   "id": "6be22ff8",
   "metadata": {},
   "source": [
    "## create stemmer function"
   ]
  },
  {
   "cell_type": "code",
   "execution_count": 187,
   "id": "ec6950fa",
   "metadata": {
    "scrolled": true
   },
   "outputs": [
    {
     "name": "stderr",
     "output_type": "stream",
     "text": [
      "[nltk_data] Downloading package punkt to\n",
      "[nltk_data]     C:\\Users\\pc\\AppData\\Roaming\\nltk_data...\n",
      "[nltk_data]   Package punkt is already up-to-date!\n"
     ]
    }
   ],
   "source": [
    "import nltk\n",
    "from nltk.stem import PorterStemmer\n",
    "from nltk.tokenize import word_tokenize\n",
    "nltk.download('punkt')  # Download the punkt tokenizer if you haven't already\n",
    "\n",
    "def stem_text(text):\n",
    "    stemmer = PorterStemmer()\n",
    "    tokens = word_tokenize(text)\n",
    "    stemmed_tokens = [stemmer.stem(word) for word in tokens]\n",
    "    stemmed_text = ' '.join(stemmed_tokens)\n",
    "    return stemmed_text"
   ]
  },
  {
   "cell_type": "markdown",
   "id": "16463dea",
   "metadata": {},
   "source": [
    "## stemme all texts"
   ]
  },
  {
   "cell_type": "code",
   "execution_count": 188,
   "id": "268187d5",
   "metadata": {
    "scrolled": true
   },
   "outputs": [
    {
     "data": {
      "text/html": [
       "<div>\n",
       "<style scoped>\n",
       "    .dataframe tbody tr th:only-of-type {\n",
       "        vertical-align: middle;\n",
       "    }\n",
       "\n",
       "    .dataframe tbody tr th {\n",
       "        vertical-align: top;\n",
       "    }\n",
       "\n",
       "    .dataframe thead th {\n",
       "        text-align: right;\n",
       "    }\n",
       "</style>\n",
       "<table border=\"1\" class=\"dataframe\">\n",
       "  <thead>\n",
       "    <tr style=\"text-align: right;\">\n",
       "      <th></th>\n",
       "      <th>Name of Product</th>\n",
       "      <th>Is Accepted Policy</th>\n",
       "      <th>agree value</th>\n",
       "      <th>StemmedText</th>\n",
       "    </tr>\n",
       "  </thead>\n",
       "  <tbody>\n",
       "    <tr>\n",
       "      <th>0</th>\n",
       "      <td>Ultra-Thin Gaming Laptop with RGB Backlit Keyb...</td>\n",
       "      <td>Yes</td>\n",
       "      <td>1</td>\n",
       "      <td>ultra-thin game laptop with rgb backlit keyboa...</td>\n",
       "    </tr>\n",
       "    <tr>\n",
       "      <th>1</th>\n",
       "      <td>Deluxe Espresso Machine with Integrated Milk F...</td>\n",
       "      <td>Yes</td>\n",
       "      <td>1</td>\n",
       "      <td>delux espresso machin with integr milk frother...</td>\n",
       "    </tr>\n",
       "    <tr>\n",
       "      <th>2</th>\n",
       "      <td>Advanced Running Shoes with Responsive Cushion...</td>\n",
       "      <td>Yes</td>\n",
       "      <td>1</td>\n",
       "      <td>advanc run shoe with respons cushion for optim...</td>\n",
       "    </tr>\n",
       "    <tr>\n",
       "      <th>3</th>\n",
       "      <td>Latest iPhone Pro Max with Triple-Camera Syste...</td>\n",
       "      <td>Yes</td>\n",
       "      <td>1</td>\n",
       "      <td>latest iphon pro max with triple-camera system...</td>\n",
       "    </tr>\n",
       "    <tr>\n",
       "      <th>4</th>\n",
       "      <td>Next-Gen Gaming Console with 4K Graphics and E...</td>\n",
       "      <td>Yes</td>\n",
       "      <td>1</td>\n",
       "      <td>next-gen game consol with 4k graphic and exclu...</td>\n",
       "    </tr>\n",
       "    <tr>\n",
       "      <th>...</th>\n",
       "      <td>...</td>\n",
       "      <td>...</td>\n",
       "      <td>...</td>\n",
       "      <td>...</td>\n",
       "    </tr>\n",
       "    <tr>\n",
       "      <th>3085</th>\n",
       "      <td>LiBa Shower Curtain Liners</td>\n",
       "      <td>Yes</td>\n",
       "      <td>1</td>\n",
       "      <td>liba shower curtain liner</td>\n",
       "    </tr>\n",
       "    <tr>\n",
       "      <th>3086</th>\n",
       "      <td>Dremel rotary. pet. oscillating tools and more</td>\n",
       "      <td>Yes</td>\n",
       "      <td>1</td>\n",
       "      <td>dremel rotari . pet . oscil tool and more</td>\n",
       "    </tr>\n",
       "    <tr>\n",
       "      <th>3087</th>\n",
       "      <td>KURONO Stationary Exercise Bike for Home Worko...</td>\n",
       "      <td>Yes</td>\n",
       "      <td>1</td>\n",
       "      <td>kurono stationari exercis bike for home workou...</td>\n",
       "    </tr>\n",
       "    <tr>\n",
       "      <th>3088</th>\n",
       "      <td>Bekind Apex 2-in-1 Hair Straightener Flat Iron...</td>\n",
       "      <td>Yes</td>\n",
       "      <td>1</td>\n",
       "      <td>bekind apex 2-in-1 hair straighten flat iron ....</td>\n",
       "    </tr>\n",
       "    <tr>\n",
       "      <th>3089</th>\n",
       "      <td>Graco and Century Car Seats and more</td>\n",
       "      <td>Yes</td>\n",
       "      <td>1</td>\n",
       "      <td>graco and centuri car seat and more</td>\n",
       "    </tr>\n",
       "  </tbody>\n",
       "</table>\n",
       "<p>2341 rows × 4 columns</p>\n",
       "</div>"
      ],
      "text/plain": [
       "                                        Name of Product Is Accepted Policy  \\\n",
       "0     Ultra-Thin Gaming Laptop with RGB Backlit Keyb...                Yes   \n",
       "1     Deluxe Espresso Machine with Integrated Milk F...                Yes   \n",
       "2     Advanced Running Shoes with Responsive Cushion...                Yes   \n",
       "3     Latest iPhone Pro Max with Triple-Camera Syste...                Yes   \n",
       "4     Next-Gen Gaming Console with 4K Graphics and E...                Yes   \n",
       "...                                                 ...                ...   \n",
       "3085                         LiBa Shower Curtain Liners                Yes   \n",
       "3086     Dremel rotary. pet. oscillating tools and more                Yes   \n",
       "3087  KURONO Stationary Exercise Bike for Home Worko...                Yes   \n",
       "3088  Bekind Apex 2-in-1 Hair Straightener Flat Iron...                Yes   \n",
       "3089               Graco and Century Car Seats and more                Yes   \n",
       "\n",
       "      agree value                                        StemmedText  \n",
       "0               1  ultra-thin game laptop with rgb backlit keyboa...  \n",
       "1               1  delux espresso machin with integr milk frother...  \n",
       "2               1  advanc run shoe with respons cushion for optim...  \n",
       "3               1  latest iphon pro max with triple-camera system...  \n",
       "4               1  next-gen game consol with 4k graphic and exclu...  \n",
       "...           ...                                                ...  \n",
       "3085            1                          liba shower curtain liner  \n",
       "3086            1          dremel rotari . pet . oscil tool and more  \n",
       "3087            1  kurono stationari exercis bike for home workou...  \n",
       "3088            1  bekind apex 2-in-1 hair straighten flat iron ....  \n",
       "3089            1                graco and centuri car seat and more  \n",
       "\n",
       "[2341 rows x 4 columns]"
      ]
     },
     "execution_count": 188,
     "metadata": {},
     "output_type": "execute_result"
    }
   ],
   "source": [
    "data['StemmedText'] = data['Name of Product'].apply(stem_text)\n",
    "data"
   ]
  },
  {
   "cell_type": "markdown",
   "id": "f2caf3c8",
   "metadata": {},
   "source": [
    "## Tokenize Texts"
   ]
  },
  {
   "cell_type": "code",
   "execution_count": 189,
   "id": "522b3cc7",
   "metadata": {},
   "outputs": [
    {
     "name": "stdout",
     "output_type": "stream",
     "text": [
      "Found 6101 unique tokens.\n"
     ]
    }
   ],
   "source": [
    "from tensorflow.keras.preprocessing.text import Tokenizer\n",
    "\n",
    "texts = data['StemmedText'].tolist()\n",
    "labels = data['agree value'].tolist()\n",
    "MAX_NUM_WORDS=280\n",
    "\n",
    "tokenizer = Tokenizer(num_words=MAX_NUM_WORDS)\n",
    "tokenizer.fit_on_texts(texts)\n",
    "sequences = tokenizer.texts_to_sequences(texts)\n",
    "word_index = tokenizer.word_index\n",
    "print('Found %s unique tokens.' % len(word_index))"
   ]
  },
  {
   "cell_type": "markdown",
   "id": "0628d558",
   "metadata": {},
   "source": [
    "## select the fixed-length input sequences"
   ]
  },
  {
   "cell_type": "code",
   "execution_count": 190,
   "id": "12b9a264",
   "metadata": {
    "scrolled": false
   },
   "outputs": [
    {
     "data": {
      "text/plain": [
       "array([[  0,   0,   0, ...,   4,  26, 235],\n",
       "       [  0,   0,   0, ...,  83,   2,   4],\n",
       "       [  0,   0,   0, ..., 159,   2,   1],\n",
       "       ...,\n",
       "       [  0,   0,   0, ...,  39, 263,   1],\n",
       "       [  0,   0,   0, ...,   1, 177,   9],\n",
       "       [  0,   0,   0, ..., 105,   4,  98]])"
      ]
     },
     "execution_count": 190,
     "metadata": {},
     "output_type": "execute_result"
    }
   ],
   "source": [
    "from tensorflow.keras.preprocessing.sequence import pad_sequences\n",
    "\n",
    "MAX_SEQUENCE_LENGTH = 30\n",
    "\n",
    "X = pad_sequences(sequences, maxlen=MAX_SEQUENCE_LENGTH)\n",
    "X"
   ]
  },
  {
   "cell_type": "markdown",
   "id": "d8b7604e",
   "metadata": {},
   "source": [
    "## categorize the output"
   ]
  },
  {
   "cell_type": "code",
   "execution_count": 191,
   "id": "e98afacd",
   "metadata": {},
   "outputs": [],
   "source": [
    "import numpy as np\n",
    "from tensorflow.keras.utils import to_categorical\n",
    "\n",
    "y = to_categorical(np.asarray(labels))"
   ]
  },
  {
   "cell_type": "code",
   "execution_count": 192,
   "id": "07527cc2",
   "metadata": {
    "scrolled": false
   },
   "outputs": [
    {
     "data": {
      "text/plain": [
       "array([[0., 1.],\n",
       "       [0., 1.],\n",
       "       [0., 1.],\n",
       "       [0., 1.],\n",
       "       [0., 1.],\n",
       "       [1., 0.],\n",
       "       [1., 0.],\n",
       "       [0., 1.]], dtype=float32)"
      ]
     },
     "execution_count": 192,
     "metadata": {},
     "output_type": "execute_result"
    }
   ],
   "source": [
    "y[0:8]"
   ]
  },
  {
   "cell_type": "markdown",
   "id": "1ae0e9b9",
   "metadata": {},
   "source": [
    "## split data to train & test"
   ]
  },
  {
   "cell_type": "code",
   "execution_count": 193,
   "id": "516c2da3",
   "metadata": {},
   "outputs": [],
   "source": [
    "from sklearn.model_selection import train_test_split\n",
    "\n",
    "X_train, X_test, y_train, y_test = train_test_split(X, y, test_size=0.33, random_state=42)"
   ]
  },
  {
   "cell_type": "markdown",
   "id": "6f40de90",
   "metadata": {},
   "source": [
    "# Create our LSTM Model"
   ]
  },
  {
   "cell_type": "code",
   "execution_count": 194,
   "id": "63cf161a",
   "metadata": {},
   "outputs": [],
   "source": [
    "from tensorflow.keras.layers import Dense, Input\n",
    "from tensorflow.keras.layers import Conv1D, MaxPooling1D, Embedding, LSTM, SpatialDropout1D\n",
    "from tensorflow.keras.models import Model, Sequential\n",
    "\n",
    "from tensorflow.keras.preprocessing.text import Tokenizer\n",
    "from tensorflow.keras.preprocessing.sequence import pad_sequences"
   ]
  },
  {
   "cell_type": "code",
   "execution_count": 195,
   "id": "07eba3b6",
   "metadata": {},
   "outputs": [
    {
     "name": "stdout",
     "output_type": "stream",
     "text": [
      "Model: \"sequential_3\"\n",
      "_________________________________________________________________\n",
      " Layer (type)                Output Shape              Param #   \n",
      "=================================================================\n",
      " embedding_3 (Embedding)     (None, 30, 128)           35840     \n",
      "                                                                 \n",
      " spatial_dropout1d_3 (Spatia  (None, 30, 128)          0         \n",
      " lDropout1D)                                                     \n",
      "                                                                 \n",
      " lstm_3 (LSTM)               (None, 196)               254800    \n",
      "                                                                 \n",
      " dense_3 (Dense)             (None, 2)                 394       \n",
      "                                                                 \n",
      "=================================================================\n",
      "Total params: 291,034\n",
      "Trainable params: 291,034\n",
      "Non-trainable params: 0\n",
      "_________________________________________________________________\n",
      "None\n"
     ]
    }
   ],
   "source": [
    "embed_dim = 128\n",
    "lstm_out = 196\n",
    "\n",
    "model = Sequential()\n",
    "model.add(Embedding(MAX_NUM_WORDS, embed_dim, input_length=X_train.shape[1]))\n",
    "model.add(SpatialDropout1D(0.4))\n",
    "model.add(LSTM(lstm_out, dropout=0.3, recurrent_dropout=0.3))\n",
    "model.add(Dense(2, activation='softmax'))\n",
    "model.compile(loss='categorical_crossentropy', optimizer=\"adam\", metrics=['accuracy'])\n",
    "print(model.summary())"
   ]
  },
  {
   "cell_type": "code",
   "execution_count": 196,
   "id": "6c020a53",
   "metadata": {
    "scrolled": true
   },
   "outputs": [
    {
     "name": "stdout",
     "output_type": "stream",
     "text": [
      "Epoch 1/5\n",
      "49/49 [==============================] - 20s 274ms/step - loss: 0.5288 - accuracy: 0.7455 - val_loss: 0.3206 - val_accuracy: 0.8797\n",
      "Epoch 2/5\n",
      "49/49 [==============================] - 16s 321ms/step - loss: 0.2678 - accuracy: 0.9024 - val_loss: 0.2707 - val_accuracy: 0.8926\n",
      "Epoch 3/5\n",
      "49/49 [==============================] - 16s 326ms/step - loss: 0.1854 - accuracy: 0.9286 - val_loss: 0.2624 - val_accuracy: 0.8913\n",
      "Epoch 4/5\n",
      "49/49 [==============================] - 15s 297ms/step - loss: 0.1556 - accuracy: 0.9356 - val_loss: 0.2804 - val_accuracy: 0.8965\n",
      "Epoch 5/5\n",
      "49/49 [==============================] - 14s 290ms/step - loss: 0.1383 - accuracy: 0.9445 - val_loss: 0.2807 - val_accuracy: 0.8926\n"
     ]
    },
    {
     "data": {
      "text/plain": [
       "<keras.callbacks.History at 0x270afb6a460>"
      ]
     },
     "execution_count": 196,
     "metadata": {},
     "output_type": "execute_result"
    }
   ],
   "source": [
    "batch_size = 32\n",
    "epochs = 5\n",
    "model.fit(X_train, y_train, validation_data=(X_test, y_test), batch_size=batch_size, verbose=1, epochs=epochs)"
   ]
  },
  {
   "cell_type": "markdown",
   "id": "f74eb0a4",
   "metadata": {},
   "source": [
    "## Transform Extracted Dataset"
   ]
  },
  {
   "cell_type": "code",
   "execution_count": 197,
   "id": "78b4a617",
   "metadata": {},
   "outputs": [],
   "source": [
    "labels_legend = {'No': 0, 'Yes': 1}\n",
    "labels_legend_inverted = {f\"{v}\":k for k,v in labels_legend.items()}\n",
    "\n",
    "training_data = {\n",
    "    'X_train': X_train,\n",
    "    'X_test': X_test,\n",
    "    'y_train': y_train,\n",
    "    'y_test': y_test,\n",
    "    'max_words':MAX_SEQUENCE_LENGTH,# MAX_NUM_WORDS,\n",
    "    'max_sequence': MAX_SEQUENCE_LENGTH,\n",
    "    'legend': labels_legend,\n",
    "    'labels_legend_inverted': labels_legend_inverted,\n",
    "    \"tokenizer\": tokenizer,\n",
    "}\n",
    "X_test = training_data['X_test']\n",
    "X_train = training_data['X_train']\n",
    "y_test = training_data['y_test']\n",
    "y_train = training_data['y_train']\n",
    "labels_legend_inverted = training_data['labels_legend_inverted']\n",
    "legend = training_data['legend']\n",
    "max_sequence = training_data['max_sequence']\n",
    "max_words = training_data['max_words']\n",
    "tokenizer = training_data['tokenizer']"
   ]
  },
  {
   "cell_type": "markdown",
   "id": "f6177833",
   "metadata": {},
   "source": [
    "## Predict new data"
   ]
  },
  {
   "cell_type": "code",
   "execution_count": 205,
   "id": "c8fb5df5",
   "metadata": {},
   "outputs": [],
   "source": [
    "import numpy as np\n",
    "from tensorflow.keras.preprocessing.sequence import pad_sequences\n",
    "\n",
    "def predict(text_str, max_sequence=280, tokenizer=None, model=None, labels_legend_inverted=None):\n",
    "    if not tokenizer or not model or not labels_legend_inverted:\n",
    "        return None\n",
    "    \n",
    "    #stemming the input text\n",
    "    text_str = stem_text(text_str)\n",
    "    \n",
    "    # Tokenize the input text\n",
    "    sequences = tokenizer.texts_to_sequences([text_str])\n",
    "    \n",
    "    # Pad the sequence\n",
    "    x_input = pad_sequences(sequences, maxlen=max_sequence)\n",
    "    \n",
    "    # Predict using the model\n",
    "    y_output = model.predict(x_input,verbose=0)\n",
    "    \n",
    "    # Assuming you want to get the label with the highest probability\n",
    "    top_y_index = np.argmax(y_output, axis=-1)[0]\n",
    "    preds = y_output[0][top_y_index]\n",
    "    \n",
    "    labeled_preds = {labels_legend_inverted[str(top_y_index)]: float(preds)}\n",
    "    \n",
    "    return labels_legend_inverted[str(top_y_index)],labeled_preds\n",
    "\n",
    "\n"
   ]
  },
  {
   "cell_type": "code",
   "execution_count": 206,
   "id": "992d078c",
   "metadata": {
    "scrolled": true
   },
   "outputs": [
    {
     "name": "stdout",
     "output_type": "stream",
     "text": [
      "best drugs 5ml --------------> No {'No': 0.9904334545135498}\n",
      "gun to kill your enemy --------------> No {'No': 0.7210914492607117}\n",
      "pc gamer --------------> Yes {'Yes': 0.692915141582489}\n"
     ]
    }
   ],
   "source": [
    "# Example usage\n",
    "msg=\"best drugs 5ml\"\n",
    "y_pred,prediction = predict(msg ,max_sequence=max_sequence, tokenizer=tokenizer, model=model, labels_legend_inverted=labels_legend_inverted)\n",
    "print(msg,'-------------->',y_pred,prediction)\n",
    "\n",
    "\n",
    "msg=\"gun to kill your enemy\"\n",
    "y_pred,prediction = predict(msg ,max_sequence=max_sequence, tokenizer=tokenizer, model=model, labels_legend_inverted=labels_legend_inverted)\n",
    "print(msg,'-------------->',y_pred,prediction)\n",
    "\n",
    "msg=\"pc gamer\"\n",
    "y_pred,prediction = predict(msg ,max_sequence=max_sequence, tokenizer=tokenizer, model=model, labels_legend_inverted=labels_legend_inverted)\n",
    "print(msg,'-------------->',y_pred,prediction)\n"
   ]
  },
  {
   "cell_type": "markdown",
   "id": "a16192de",
   "metadata": {},
   "source": [
    "## test the model"
   ]
  },
  {
   "cell_type": "code",
   "execution_count": 207,
   "id": "43b454a4",
   "metadata": {},
   "outputs": [],
   "source": [
    "from sklearn.model_selection import train_test_split\n",
    "\n",
    "X = data[\"Name of Product\"].tolist()\n",
    "y = data[\"Is Accepted Policy\"].tolist()\n",
    "X_train, X_test, y_train, y_test = train_test_split(X, y, test_size=0.33, random_state=42)"
   ]
  },
  {
   "cell_type": "code",
   "execution_count": 208,
   "id": "821d8b48",
   "metadata": {},
   "outputs": [],
   "source": [
    "true = 0\n",
    "false = 0\n",
    "for i in range(len(X_test)):\n",
    "    y_pred,prediction = predict(X_test[i], tokenizer=tokenizer, model=model, labels_legend_inverted=labels_legend_inverted)\n",
    "\n",
    "    if y_test[i] == y_pred:\n",
    "        true += 1\n",
    "    else:\n",
    "        false += 1"
   ]
  },
  {
   "cell_type": "code",
   "execution_count": 209,
   "id": "4457aa5f",
   "metadata": {},
   "outputs": [
    {
     "name": "stdout",
     "output_type": "stream",
     "text": [
      "true :  719\n",
      "false :  54\n"
     ]
    }
   ],
   "source": [
    "print(\"true : \",true)\n",
    "print(\"false : \",false)"
   ]
  },
  {
   "cell_type": "code",
   "execution_count": 210,
   "id": "c32634a0",
   "metadata": {},
   "outputs": [
    {
     "name": "stdout",
     "output_type": "stream",
     "text": [
      "True : 93.01%\n",
      "False : 6.99%\n"
     ]
    }
   ],
   "source": [
    "print(\"True :\",f'{100*true/(true+false):.2f}%')\n",
    "print(\"False :\",f'{100*false/(true+false):.2f}%')"
   ]
  },
  {
   "cell_type": "markdown",
   "id": "03486689",
   "metadata": {},
   "source": [
    "## classification report"
   ]
  },
  {
   "cell_type": "code",
   "execution_count": 211,
   "id": "9bca76d2",
   "metadata": {},
   "outputs": [
    {
     "name": "stdout",
     "output_type": "stream",
     "text": [
      "Classification Report:\n",
      "              precision    recall  f1-score   support\n",
      "\n",
      "           0       0.94      0.90      0.92       343\n",
      "           1       0.93      0.95      0.94       430\n",
      "\n",
      "    accuracy                           0.93       773\n",
      "   macro avg       0.93      0.93      0.93       773\n",
      "weighted avg       0.93      0.93      0.93       773\n",
      "\n"
     ]
    }
   ],
   "source": [
    "from sklearn.metrics import classification_report\n",
    "\n",
    "# Function to convert 'Yes' and 'No' to binary labels (1 and 0)\n",
    "def convert_labels(label):\n",
    "    return 1 if label == 'Yes' else 0\n",
    "\n",
    "# Convert 'Is Accepted Policy' to binary labels for y_test\n",
    "y_test_binary = [convert_labels(label) for label in y_test]\n",
    "\n",
    "# Initialize lists to store predicted labels\n",
    "y_pred_binary = []\n",
    "\n",
    "# Predict labels for X_test\n",
    "for i in range(len(X_test)):\n",
    "    y_pred, _ = predict(X_test[i], tokenizer=tokenizer, model=model, labels_legend_inverted=labels_legend_inverted)\n",
    "    y_pred_binary.append(convert_labels(y_pred))\n",
    "\n",
    "# Calculate and print classification report\n",
    "print(\"Classification Report:\")\n",
    "print(classification_report(y_test_binary, y_pred_binary))\n"
   ]
  }
 ],
 "metadata": {
  "kernelspec": {
   "display_name": "Python 3 (ipykernel)",
   "language": "python",
   "name": "python3"
  },
  "language_info": {
   "codemirror_mode": {
    "name": "ipython",
    "version": 3
   },
   "file_extension": ".py",
   "mimetype": "text/x-python",
   "name": "python",
   "nbconvert_exporter": "python",
   "pygments_lexer": "ipython3",
   "version": "3.9.12"
  }
 },
 "nbformat": 4,
 "nbformat_minor": 5
}
