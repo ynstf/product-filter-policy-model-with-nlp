{
 "cells": [
  {
   "cell_type": "code",
   "execution_count": 49,
   "id": "c11aa5f1",
   "metadata": {},
   "outputs": [],
   "source": [
    "import pandas as pd"
   ]
  },
  {
   "cell_type": "code",
   "execution_count": 50,
   "id": "2137a302",
   "metadata": {},
   "outputs": [],
   "source": [
    "data = pd.read_csv('data.txt')"
   ]
  },
  {
   "cell_type": "code",
   "execution_count": 51,
   "id": "1a6bf2ff",
   "metadata": {},
   "outputs": [
    {
     "data": {
      "text/html": [
       "<div>\n",
       "<style scoped>\n",
       "    .dataframe tbody tr th:only-of-type {\n",
       "        vertical-align: middle;\n",
       "    }\n",
       "\n",
       "    .dataframe tbody tr th {\n",
       "        vertical-align: top;\n",
       "    }\n",
       "\n",
       "    .dataframe thead th {\n",
       "        text-align: right;\n",
       "    }\n",
       "</style>\n",
       "<table border=\"1\" class=\"dataframe\">\n",
       "  <thead>\n",
       "    <tr style=\"text-align: right;\">\n",
       "      <th></th>\n",
       "      <th>Name of Product</th>\n",
       "      <th>Is Accepted Policy</th>\n",
       "    </tr>\n",
       "  </thead>\n",
       "  <tbody>\n",
       "    <tr>\n",
       "      <th>0</th>\n",
       "      <td>Ultra-Thin Gaming Laptop with RGB Backlit Keyb...</td>\n",
       "      <td>Yes</td>\n",
       "    </tr>\n",
       "    <tr>\n",
       "      <th>1</th>\n",
       "      <td>Deluxe Espresso Machine with Integrated Milk F...</td>\n",
       "      <td>Yes</td>\n",
       "    </tr>\n",
       "    <tr>\n",
       "      <th>2</th>\n",
       "      <td>Advanced Running Shoes with Responsive Cushion...</td>\n",
       "      <td>Yes</td>\n",
       "    </tr>\n",
       "    <tr>\n",
       "      <th>3</th>\n",
       "      <td>Latest iPhone Pro Max with Triple-Camera Syste...</td>\n",
       "      <td>Yes</td>\n",
       "    </tr>\n",
       "    <tr>\n",
       "      <th>4</th>\n",
       "      <td>Next-Gen Gaming Console with 4K Graphics and E...</td>\n",
       "      <td>Yes</td>\n",
       "    </tr>\n",
       "    <tr>\n",
       "      <th>...</th>\n",
       "      <td>...</td>\n",
       "      <td>...</td>\n",
       "    </tr>\n",
       "    <tr>\n",
       "      <th>3145</th>\n",
       "      <td>LiBa Shower Curtain Liners</td>\n",
       "      <td>Yes</td>\n",
       "    </tr>\n",
       "    <tr>\n",
       "      <th>3146</th>\n",
       "      <td>Dremel rotary. pet. oscillating tools and more</td>\n",
       "      <td>Yes</td>\n",
       "    </tr>\n",
       "    <tr>\n",
       "      <th>3147</th>\n",
       "      <td>KURONO Stationary Exercise Bike for Home Worko...</td>\n",
       "      <td>Yes</td>\n",
       "    </tr>\n",
       "    <tr>\n",
       "      <th>3148</th>\n",
       "      <td>Bekind Apex 2-in-1 Hair Straightener Flat Iron...</td>\n",
       "      <td>Yes</td>\n",
       "    </tr>\n",
       "    <tr>\n",
       "      <th>3149</th>\n",
       "      <td>Graco and Century Car Seats and more</td>\n",
       "      <td>Yes</td>\n",
       "    </tr>\n",
       "  </tbody>\n",
       "</table>\n",
       "<p>3150 rows × 2 columns</p>\n",
       "</div>"
      ],
      "text/plain": [
       "                                        Name of Product Is Accepted Policy\n",
       "0     Ultra-Thin Gaming Laptop with RGB Backlit Keyb...                Yes\n",
       "1     Deluxe Espresso Machine with Integrated Milk F...                Yes\n",
       "2     Advanced Running Shoes with Responsive Cushion...                Yes\n",
       "3     Latest iPhone Pro Max with Triple-Camera Syste...                Yes\n",
       "4     Next-Gen Gaming Console with 4K Graphics and E...                Yes\n",
       "...                                                 ...                ...\n",
       "3145                         LiBa Shower Curtain Liners                Yes\n",
       "3146     Dremel rotary. pet. oscillating tools and more                Yes\n",
       "3147  KURONO Stationary Exercise Bike for Home Worko...                Yes\n",
       "3148  Bekind Apex 2-in-1 Hair Straightener Flat Iron...                Yes\n",
       "3149               Graco and Century Car Seats and more                Yes\n",
       "\n",
       "[3150 rows x 2 columns]"
      ]
     },
     "execution_count": 51,
     "metadata": {},
     "output_type": "execute_result"
    }
   ],
   "source": [
    "data"
   ]
  },
  {
   "cell_type": "code",
   "execution_count": 52,
   "id": "e1e10c97",
   "metadata": {},
   "outputs": [
    {
     "data": {
      "text/html": [
       "<div>\n",
       "<style scoped>\n",
       "    .dataframe tbody tr th:only-of-type {\n",
       "        vertical-align: middle;\n",
       "    }\n",
       "\n",
       "    .dataframe tbody tr th {\n",
       "        vertical-align: top;\n",
       "    }\n",
       "\n",
       "    .dataframe thead th {\n",
       "        text-align: right;\n",
       "    }\n",
       "</style>\n",
       "<table border=\"1\" class=\"dataframe\">\n",
       "  <thead>\n",
       "    <tr style=\"text-align: right;\">\n",
       "      <th></th>\n",
       "      <th>Name of Product</th>\n",
       "      <th>Is Accepted Policy</th>\n",
       "    </tr>\n",
       "  </thead>\n",
       "  <tbody>\n",
       "    <tr>\n",
       "      <th>count</th>\n",
       "      <td>3150</td>\n",
       "      <td>3150</td>\n",
       "    </tr>\n",
       "    <tr>\n",
       "      <th>unique</th>\n",
       "      <td>2342</td>\n",
       "      <td>3</td>\n",
       "    </tr>\n",
       "    <tr>\n",
       "      <th>top</th>\n",
       "      <td>Dearjoyee sexy dolls for men silicon xxx-18-ww...</td>\n",
       "      <td>No</td>\n",
       "    </tr>\n",
       "    <tr>\n",
       "      <th>freq</th>\n",
       "      <td>78</td>\n",
       "      <td>1667</td>\n",
       "    </tr>\n",
       "  </tbody>\n",
       "</table>\n",
       "</div>"
      ],
      "text/plain": [
       "                                          Name of Product Is Accepted Policy\n",
       "count                                                3150               3150\n",
       "unique                                               2342                  3\n",
       "top     Dearjoyee sexy dolls for men silicon xxx-18-ww...                 No\n",
       "freq                                                   78               1667"
      ]
     },
     "execution_count": 52,
     "metadata": {},
     "output_type": "execute_result"
    }
   ],
   "source": [
    "data.describe()"
   ]
  },
  {
   "cell_type": "code",
   "execution_count": 62,
   "id": "13470685",
   "metadata": {},
   "outputs": [
    {
     "name": "stdout",
     "output_type": "stream",
     "text": [
      "unique values in Is Accepted Policy ['Yes' 'No']\n"
     ]
    }
   ],
   "source": [
    "print(\"unique values in Is Accepted Policy\",data[\"Is Accepted Policy\"].unique())"
   ]
  },
  {
   "cell_type": "code",
   "execution_count": 54,
   "id": "693e4bbe",
   "metadata": {
    "scrolled": true
   },
   "outputs": [
    {
     "name": "stdout",
     "output_type": "stream",
     "text": [
      "the data with No in Is Accepted Policy 1667\n",
      "the data with Yes in Is Accepted Policy 1474\n"
     ]
    }
   ],
   "source": [
    "print('the data with No in Is Accepted Policy',len(data[data[\"Is Accepted Policy\"]==\"No\"]))\n",
    "print('the data with Yes in Is Accepted Policy',len(data[data[\"Is Accepted Policy\"]==\"Yes\"]))"
   ]
  },
  {
   "cell_type": "markdown",
   "id": "7f6465e5",
   "metadata": {},
   "source": [
    "\n",
    "\n",
    "## delete all data with Accepted Policy = \"Is Accepted Policy\"\n",
    "\n",
    "\n",
    "\n"
   ]
  },
  {
   "cell_type": "code",
   "execution_count": 60,
   "id": "aec86592",
   "metadata": {},
   "outputs": [],
   "source": [
    "data = data[data[\"Is Accepted Policy\"]!=\"Is Accepted Policy\"]"
   ]
  },
  {
   "cell_type": "code",
   "execution_count": 61,
   "id": "5c421695",
   "metadata": {},
   "outputs": [
    {
     "data": {
      "text/html": [
       "<div>\n",
       "<style scoped>\n",
       "    .dataframe tbody tr th:only-of-type {\n",
       "        vertical-align: middle;\n",
       "    }\n",
       "\n",
       "    .dataframe tbody tr th {\n",
       "        vertical-align: top;\n",
       "    }\n",
       "\n",
       "    .dataframe thead th {\n",
       "        text-align: right;\n",
       "    }\n",
       "</style>\n",
       "<table border=\"1\" class=\"dataframe\">\n",
       "  <thead>\n",
       "    <tr style=\"text-align: right;\">\n",
       "      <th></th>\n",
       "      <th>Name of Product</th>\n",
       "      <th>Is Accepted Policy</th>\n",
       "    </tr>\n",
       "  </thead>\n",
       "  <tbody>\n",
       "    <tr>\n",
       "      <th>0</th>\n",
       "      <td>Ultra-Thin Gaming Laptop with RGB Backlit Keyb...</td>\n",
       "      <td>Yes</td>\n",
       "    </tr>\n",
       "    <tr>\n",
       "      <th>1</th>\n",
       "      <td>Deluxe Espresso Machine with Integrated Milk F...</td>\n",
       "      <td>Yes</td>\n",
       "    </tr>\n",
       "    <tr>\n",
       "      <th>2</th>\n",
       "      <td>Advanced Running Shoes with Responsive Cushion...</td>\n",
       "      <td>Yes</td>\n",
       "    </tr>\n",
       "    <tr>\n",
       "      <th>3</th>\n",
       "      <td>Latest iPhone Pro Max with Triple-Camera Syste...</td>\n",
       "      <td>Yes</td>\n",
       "    </tr>\n",
       "    <tr>\n",
       "      <th>4</th>\n",
       "      <td>Next-Gen Gaming Console with 4K Graphics and E...</td>\n",
       "      <td>Yes</td>\n",
       "    </tr>\n",
       "    <tr>\n",
       "      <th>...</th>\n",
       "      <td>...</td>\n",
       "      <td>...</td>\n",
       "    </tr>\n",
       "    <tr>\n",
       "      <th>3145</th>\n",
       "      <td>LiBa Shower Curtain Liners</td>\n",
       "      <td>Yes</td>\n",
       "    </tr>\n",
       "    <tr>\n",
       "      <th>3146</th>\n",
       "      <td>Dremel rotary. pet. oscillating tools and more</td>\n",
       "      <td>Yes</td>\n",
       "    </tr>\n",
       "    <tr>\n",
       "      <th>3147</th>\n",
       "      <td>KURONO Stationary Exercise Bike for Home Worko...</td>\n",
       "      <td>Yes</td>\n",
       "    </tr>\n",
       "    <tr>\n",
       "      <th>3148</th>\n",
       "      <td>Bekind Apex 2-in-1 Hair Straightener Flat Iron...</td>\n",
       "      <td>Yes</td>\n",
       "    </tr>\n",
       "    <tr>\n",
       "      <th>3149</th>\n",
       "      <td>Graco and Century Car Seats and more</td>\n",
       "      <td>Yes</td>\n",
       "    </tr>\n",
       "  </tbody>\n",
       "</table>\n",
       "<p>3141 rows × 2 columns</p>\n",
       "</div>"
      ],
      "text/plain": [
       "                                        Name of Product Is Accepted Policy\n",
       "0     Ultra-Thin Gaming Laptop with RGB Backlit Keyb...                Yes\n",
       "1     Deluxe Espresso Machine with Integrated Milk F...                Yes\n",
       "2     Advanced Running Shoes with Responsive Cushion...                Yes\n",
       "3     Latest iPhone Pro Max with Triple-Camera Syste...                Yes\n",
       "4     Next-Gen Gaming Console with 4K Graphics and E...                Yes\n",
       "...                                                 ...                ...\n",
       "3145                         LiBa Shower Curtain Liners                Yes\n",
       "3146     Dremel rotary. pet. oscillating tools and more                Yes\n",
       "3147  KURONO Stationary Exercise Bike for Home Worko...                Yes\n",
       "3148  Bekind Apex 2-in-1 Hair Straightener Flat Iron...                Yes\n",
       "3149               Graco and Century Car Seats and more                Yes\n",
       "\n",
       "[3141 rows x 2 columns]"
      ]
     },
     "execution_count": 61,
     "metadata": {},
     "output_type": "execute_result"
    }
   ],
   "source": [
    "data"
   ]
  },
  {
   "cell_type": "code",
   "execution_count": 63,
   "id": "bd19374e",
   "metadata": {},
   "outputs": [
    {
     "name": "stdout",
     "output_type": "stream",
     "text": [
      "unique values in Is Accepted Policy ['Yes' 'No']\n"
     ]
    }
   ],
   "source": [
    "print(\"unique values in Is Accepted Policy\",data[\"Is Accepted Policy\"].unique())"
   ]
  },
  {
   "cell_type": "code",
   "execution_count": null,
   "id": "cb480581",
   "metadata": {},
   "outputs": [],
   "source": []
  }
 ],
 "metadata": {
  "kernelspec": {
   "display_name": "Python 3 (ipykernel)",
   "language": "python",
   "name": "python3"
  },
  "language_info": {
   "codemirror_mode": {
    "name": "ipython",
    "version": 3
   },
   "file_extension": ".py",
   "mimetype": "text/x-python",
   "name": "python",
   "nbconvert_exporter": "python",
   "pygments_lexer": "ipython3",
   "version": "3.9.12"
  }
 },
 "nbformat": 4,
 "nbformat_minor": 5
}
