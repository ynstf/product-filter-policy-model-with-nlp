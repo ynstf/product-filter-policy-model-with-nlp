{
 "cells": [
  {
   "cell_type": "markdown",
   "id": "78db5c97",
   "metadata": {},
   "source": [
    "## load al files from model folder"
   ]
  },
  {
   "cell_type": "code",
   "execution_count": 328,
   "id": "e051015b",
   "metadata": {},
   "outputs": [],
   "source": [
    "version = 5"
   ]
  },
  {
   "cell_type": "code",
   "execution_count": 329,
   "id": "32c3a61a",
   "metadata": {},
   "outputs": [],
   "source": [
    "model_folder = f\"model_v{version}\""
   ]
  },
  {
   "cell_type": "markdown",
   "id": "da41e7d5",
   "metadata": {},
   "source": [
    "## Load model"
   ]
  },
  {
   "cell_type": "code",
   "execution_count": 330,
   "id": "38bf5525",
   "metadata": {},
   "outputs": [],
   "source": [
    "from tensorflow import keras\n",
    "\n",
    "model = keras.models.load_model(f'{model_folder}/model.h5')"
   ]
  },
  {
   "cell_type": "markdown",
   "id": "b3a527bf",
   "metadata": {},
   "source": [
    "## Load tokenizer"
   ]
  },
  {
   "cell_type": "code",
   "execution_count": 331,
   "id": "54370245",
   "metadata": {},
   "outputs": [],
   "source": [
    "from tensorflow.keras.preprocessing.text import tokenizer_from_json\n",
    "import json\n",
    "\n",
    "# Load tokenizer configuration from the file\n",
    "with open(f'{model_folder}/tokenizer_config.json', 'r') as json_file:\n",
    "    tokenizer_config_str = json_file.read()\n",
    "\n",
    "# Create a tokenizer instance using tokenizer_from_json\n",
    "tokenizer = tokenizer_from_json(tokenizer_config_str)\n"
   ]
  },
  {
   "cell_type": "markdown",
   "id": "b7aeb013",
   "metadata": {},
   "source": [
    "## Load the training data"
   ]
  },
  {
   "cell_type": "code",
   "execution_count": 332,
   "id": "b6875c7a",
   "metadata": {},
   "outputs": [],
   "source": [
    "import pickle\n",
    "\n",
    "# Specify the file path where you saved the data\n",
    "pickle_file_path = f'{model_folder}/training_data.pkl'\n",
    "\n",
    "# Load the training_data dictionary from the Pickle file\n",
    "with open(pickle_file_path, 'rb') as pickle_file:\n",
    "    loaded_training_data = pickle.load(pickle_file)\n",
    "\n",
    "# Access the loaded data\n",
    "max_words = loaded_training_data['max_words']\n",
    "max_sequence = loaded_training_data['max_sequence']\n",
    "legend = loaded_training_data['legend']\n",
    "labels_legend_inverted = loaded_training_data['labels_legend_inverted']"
   ]
  },
  {
   "cell_type": "code",
   "execution_count": 333,
   "id": "625ffc72",
   "metadata": {},
   "outputs": [
    {
     "data": {
      "text/plain": [
       "{'max_words': 15,\n",
       " 'max_sequence': 15,\n",
       " 'legend': {'No': 0, 'Yes': 1},\n",
       " 'labels_legend_inverted': {'0': 'No', '1': 'Yes'}}"
      ]
     },
     "execution_count": 333,
     "metadata": {},
     "output_type": "execute_result"
    }
   ],
   "source": [
    "loaded_training_data"
   ]
  },
  {
   "cell_type": "markdown",
   "id": "7e509e18",
   "metadata": {},
   "source": [
    "## define the stem function"
   ]
  },
  {
   "cell_type": "code",
   "execution_count": 334,
   "id": "2b3fc6ac",
   "metadata": {
    "scrolled": true
   },
   "outputs": [
    {
     "name": "stderr",
     "output_type": "stream",
     "text": [
      "[nltk_data] Downloading package punkt to\n",
      "[nltk_data]     C:\\Users\\pc\\AppData\\Roaming\\nltk_data...\n",
      "[nltk_data]   Package punkt is already up-to-date!\n"
     ]
    }
   ],
   "source": [
    "import nltk\n",
    "from nltk.stem import PorterStemmer\n",
    "from nltk.tokenize import word_tokenize\n",
    "nltk.download('punkt')  # Download the punkt tokenizer if you haven't already\n",
    "\n",
    "def stem_text(text):\n",
    "    stemmer = PorterStemmer()\n",
    "    tokens = word_tokenize(text)\n",
    "    stemmed_tokens = [stemmer.stem(word) for word in tokens]\n",
    "    stemmed_text = ' '.join(stemmed_tokens)\n",
    "    return stemmed_text"
   ]
  },
  {
   "cell_type": "markdown",
   "id": "6f9d8024",
   "metadata": {},
   "source": [
    "## define the pridection function"
   ]
  },
  {
   "cell_type": "code",
   "execution_count": 335,
   "id": "f92190d3",
   "metadata": {},
   "outputs": [],
   "source": [
    "import numpy as np\n",
    "from tensorflow.keras.preprocessing.sequence import pad_sequences\n",
    "\n",
    "def predict(text_str, max_sequence=max_sequence, tokenizer=None, model=None, labels_legend_inverted=None):\n",
    "    if not tokenizer or not model or not labels_legend_inverted:\n",
    "        return None\n",
    "    \n",
    "    #stemming the input text\n",
    "    text_str = stem_text(text_str)\n",
    "    \n",
    "    # Tokenize the input text\n",
    "    sequences = tokenizer.texts_to_sequences([text_str])\n",
    "    \n",
    "    # Pad the sequence\n",
    "    x_input = pad_sequences(sequences, maxlen=max_sequence)\n",
    "    \n",
    "    # Predict using the model\n",
    "    y_output = model.predict(x_input,verbose=0)\n",
    "    \n",
    "    # Assuming you want to get the label with the highest probability\n",
    "    top_y_index = np.argmax(y_output, axis=-1)[0]\n",
    "    preds = y_output[0][top_y_index]\n",
    "    \n",
    "    labeled_preds = {labels_legend_inverted[str(top_y_index)]: float(preds)}\n",
    "    \n",
    "    return labels_legend_inverted[str(top_y_index)],labeled_preds\n",
    "\n",
    "\n"
   ]
  },
  {
   "cell_type": "markdown",
   "id": "a40fa9bc",
   "metadata": {},
   "source": [
    "## Example usage"
   ]
  },
  {
   "cell_type": "code",
   "execution_count": 336,
   "id": "9a77723d",
   "metadata": {
    "scrolled": true
   },
   "outputs": [
    {
     "name": "stdout",
     "output_type": "stream",
     "text": [
      "best drugs 5ml\n",
      "No {'No': 0.999881386756897}\n",
      "\n",
      "gun\n",
      "No {'No': 0.8199013471603394}\n",
      "\n",
      "Dearjoyee sex dolls for men silicon\n",
      "No {'No': 0.978752076625824}\n",
      "\n",
      "10 Modes Clitoral Stimulator Female Masturbator Bullet Vibrator Sex Toys Makeup Brush Vibrator\n",
      "No {'No': 0.9999982118606567}\n",
      "\n",
      "mouse gaming\n",
      "Yes {'Yes': 0.8632659316062927}\n",
      "\n",
      "sexy\n",
      "No {'No': 0.9900497198104858}\n",
      "\n",
      "Wholesale Cheap Price Sex Products Adult Toy Female Clitoris Vibrator Silicone G Spot Rabbit Vibrator Sex Toy For Women\n",
      "No {'No': 0.9999967813491821}\n",
      "\n"
     ]
    }
   ],
   "source": [
    "# Example usage\n",
    "msg=\"best drugs 5ml\"\n",
    "y_pred,prediction = predict(msg, tokenizer=tokenizer, model=model, labels_legend_inverted=labels_legend_inverted)\n",
    "print(msg)\n",
    "print(y_pred,prediction)\n",
    "print()\n",
    "\n",
    "\n",
    "msg=\"gun\"\n",
    "y_pred,prediction = predict(msg , tokenizer=tokenizer, model=model, labels_legend_inverted=labels_legend_inverted)\n",
    "print(msg)\n",
    "print(y_pred,prediction)\n",
    "print()\n",
    "\n",
    "msg=\"Dearjoyee sex dolls for men silicon\"\n",
    "y_pred,prediction = predict(msg, tokenizer=tokenizer, model=model, labels_legend_inverted=labels_legend_inverted)\n",
    "print(msg)\n",
    "print(y_pred,prediction)\n",
    "print()\n",
    "\n",
    "msg=\"10 Modes Clitoral Stimulator Female Masturbator Bullet Vibrator Sex Toys Makeup Brush Vibrator\"\n",
    "y_pred,prediction = predict(msg, tokenizer=tokenizer, model=model, labels_legend_inverted=labels_legend_inverted)\n",
    "print(msg)\n",
    "print(y_pred,prediction)\n",
    "print()\n",
    "\n",
    "msg=\"mouse gaming\"\n",
    "y_pred,prediction = predict(msg, tokenizer=tokenizer, model=model, labels_legend_inverted=labels_legend_inverted)\n",
    "print(msg)\n",
    "print(y_pred,prediction)\n",
    "print()\n",
    "\n",
    "msg=\"sexy\"\n",
    "y_pred,prediction = predict(msg, tokenizer=tokenizer, model=model, labels_legend_inverted=labels_legend_inverted)\n",
    "print(msg)\n",
    "print(y_pred,prediction)\n",
    "print()\n",
    "\n",
    "msg=\"Wholesale Cheap Price Sex Products Adult Toy Female Clitoris Vibrator Silicone G Spot Rabbit Vibrator Sex Toy For Women\"\n",
    "y_pred,prediction = predict(msg, tokenizer=tokenizer, model=model, labels_legend_inverted=labels_legend_inverted)\n",
    "print(msg)\n",
    "print(y_pred,prediction)\n",
    "print()"
   ]
  },
  {
   "cell_type": "code",
   "execution_count": 205,
   "id": "420b952e",
   "metadata": {},
   "outputs": [
    {
     "data": {
      "text/plain": [
       "'sexi'"
      ]
     },
     "execution_count": 205,
     "metadata": {},
     "output_type": "execute_result"
    }
   ],
   "source": [
    "stem_text(\"sexy\")"
   ]
  },
  {
   "cell_type": "markdown",
   "id": "34c8fe3d",
   "metadata": {},
   "source": [
    "## test the model"
   ]
  },
  {
   "cell_type": "code",
   "execution_count": 337,
   "id": "9f54d34f",
   "metadata": {},
   "outputs": [
    {
     "data": {
      "text/html": [
       "<div>\n",
       "<style scoped>\n",
       "    .dataframe tbody tr th:only-of-type {\n",
       "        vertical-align: middle;\n",
       "    }\n",
       "\n",
       "    .dataframe tbody tr th {\n",
       "        vertical-align: top;\n",
       "    }\n",
       "\n",
       "    .dataframe thead th {\n",
       "        text-align: right;\n",
       "    }\n",
       "</style>\n",
       "<table border=\"1\" class=\"dataframe\">\n",
       "  <thead>\n",
       "    <tr style=\"text-align: right;\">\n",
       "      <th></th>\n",
       "      <th>Name of Product</th>\n",
       "      <th>Is Accepted Policy</th>\n",
       "    </tr>\n",
       "  </thead>\n",
       "  <tbody>\n",
       "    <tr>\n",
       "      <th>0</th>\n",
       "      <td>Ultra-Thin Gaming Laptop with RGB Backlit Keyb...</td>\n",
       "      <td>Yes</td>\n",
       "    </tr>\n",
       "    <tr>\n",
       "      <th>1</th>\n",
       "      <td>Deluxe Espresso Machine with Integrated Milk F...</td>\n",
       "      <td>Yes</td>\n",
       "    </tr>\n",
       "    <tr>\n",
       "      <th>2</th>\n",
       "      <td>Advanced Running Shoes with Responsive Cushion...</td>\n",
       "      <td>Yes</td>\n",
       "    </tr>\n",
       "    <tr>\n",
       "      <th>3</th>\n",
       "      <td>Latest iPhone Pro Max with Triple-Camera Syste...</td>\n",
       "      <td>Yes</td>\n",
       "    </tr>\n",
       "    <tr>\n",
       "      <th>4</th>\n",
       "      <td>Next-Gen Gaming Console with 4K Graphics and E...</td>\n",
       "      <td>Yes</td>\n",
       "    </tr>\n",
       "    <tr>\n",
       "      <th>...</th>\n",
       "      <td>...</td>\n",
       "      <td>...</td>\n",
       "    </tr>\n",
       "    <tr>\n",
       "      <th>10343</th>\n",
       "      <td>Hot Selling Aluminum Alloy Portable Lightweigh...</td>\n",
       "      <td>No</td>\n",
       "    </tr>\n",
       "    <tr>\n",
       "      <th>10344</th>\n",
       "      <td>High Quality Stainless Steel Kitchen knife Wit...</td>\n",
       "      <td>No</td>\n",
       "    </tr>\n",
       "    <tr>\n",
       "      <th>10345</th>\n",
       "      <td>New Arrival Folding Blade Knives Outdoor Survi...</td>\n",
       "      <td>No</td>\n",
       "    </tr>\n",
       "    <tr>\n",
       "      <th>10346</th>\n",
       "      <td>16212 Komioh 162 cm mature pussy 13cm 18cm 32c...</td>\n",
       "      <td>No</td>\n",
       "    </tr>\n",
       "    <tr>\n",
       "      <th>10349</th>\n",
       "      <td>XISE sex dolls with chubby butt and leg lifeli...</td>\n",
       "      <td>No</td>\n",
       "    </tr>\n",
       "  </tbody>\n",
       "</table>\n",
       "<p>6311 rows × 2 columns</p>\n",
       "</div>"
      ],
      "text/plain": [
       "                                         Name of Product Is Accepted Policy\n",
       "0      Ultra-Thin Gaming Laptop with RGB Backlit Keyb...                Yes\n",
       "1      Deluxe Espresso Machine with Integrated Milk F...                Yes\n",
       "2      Advanced Running Shoes with Responsive Cushion...                Yes\n",
       "3      Latest iPhone Pro Max with Triple-Camera Syste...                Yes\n",
       "4      Next-Gen Gaming Console with 4K Graphics and E...                Yes\n",
       "...                                                  ...                ...\n",
       "10343  Hot Selling Aluminum Alloy Portable Lightweigh...                 No\n",
       "10344  High Quality Stainless Steel Kitchen knife Wit...                 No\n",
       "10345  New Arrival Folding Blade Knives Outdoor Survi...                 No\n",
       "10346  16212 Komioh 162 cm mature pussy 13cm 18cm 32c...                 No\n",
       "10349  XISE sex dolls with chubby butt and leg lifeli...                 No\n",
       "\n",
       "[6311 rows x 2 columns]"
      ]
     },
     "execution_count": 337,
     "metadata": {},
     "output_type": "execute_result"
    }
   ],
   "source": [
    "import pandas as pd\n",
    "data = pd.read_csv('data/data.txt') #model_v3/data.csv\n",
    "\n",
    "data = data[data[\"Is Accepted Policy\"]!=\"Is Accepted Policy\"]\n",
    "data = data.drop_duplicates(subset='Name of Product', keep='first')\n",
    "\n",
    "data"
   ]
  },
  {
   "cell_type": "code",
   "execution_count": 338,
   "id": "d8506d08",
   "metadata": {},
   "outputs": [],
   "source": [
    "from sklearn.model_selection import train_test_split\n",
    "\n",
    "X = data[\"Name of Product\"].tolist()\n",
    "y = data[\"Is Accepted Policy\"].tolist()\n",
    "X_train, X_test, y_train, y_test = train_test_split(X, y, test_size=0.2, random_state=42)\n"
   ]
  },
  {
   "cell_type": "code",
   "execution_count": 339,
   "id": "4f5484cb",
   "metadata": {},
   "outputs": [
    {
     "data": {
      "text/plain": [
       "733"
      ]
     },
     "execution_count": 339,
     "metadata": {},
     "output_type": "execute_result"
    }
   ],
   "source": [
    "len(X_test[:733])"
   ]
  },
  {
   "cell_type": "code",
   "execution_count": 340,
   "id": "1287edab",
   "metadata": {
    "scrolled": true
   },
   "outputs": [],
   "source": [
    "# Function to convert 'Yes' and 'No' to binary labels (1 and 0)\n",
    "def convert_labels(label):\n",
    "    return 1 if label == 'Yes' else 0\n",
    "\n",
    "# Convert 'Is Accepted Policy' to binary labels for y_test\n",
    "y_test_binary = [convert_labels(label) for label in y_test]\n",
    "\n",
    "# Initialize lists to store predicted labels\n",
    "y_pred_binary = []\n",
    "\n",
    "# Predict labels for X_test\n",
    "for i in range(733):#len(X_test)\n",
    "    y_pred, _ = predict(X_test[i], tokenizer=tokenizer, model=model, labels_legend_inverted=labels_legend_inverted)\n",
    "    y_pred_binary.append(convert_labels(y_pred))\n"
   ]
  },
  {
   "cell_type": "code",
   "execution_count": 341,
   "id": "61f7c7c6",
   "metadata": {},
   "outputs": [
    {
     "data": {
      "text/plain": [
       "733"
      ]
     },
     "execution_count": 341,
     "metadata": {},
     "output_type": "execute_result"
    }
   ],
   "source": [
    "len(y_test_binary[:733])"
   ]
  },
  {
   "cell_type": "code",
   "execution_count": 342,
   "id": "c7bb480f",
   "metadata": {
    "scrolled": true
   },
   "outputs": [
    {
     "name": "stdout",
     "output_type": "stream",
     "text": [
      "confusion matrix:\n"
     ]
    },
    {
     "data": {
      "text/plain": [
       "array([[542,  29],\n",
       "       [  5, 157]], dtype=int64)"
      ]
     },
     "execution_count": 342,
     "metadata": {},
     "output_type": "execute_result"
    }
   ],
   "source": [
    "from sklearn.metrics import confusion_matrix\n",
    "\n",
    "print(\"confusion matrix:\")\n",
    "confusion_matrix(y_test_binary[:733], y_pred_binary)"
   ]
  },
  {
   "cell_type": "code",
   "execution_count": 343,
   "id": "baa8f9da",
   "metadata": {},
   "outputs": [
    {
     "name": "stdout",
     "output_type": "stream",
     "text": [
      "Classification Report:\n",
      "              precision    recall  f1-score   support\n",
      "\n",
      "           0       0.99      0.95      0.97       571\n",
      "           1       0.84      0.97      0.90       162\n",
      "\n",
      "    accuracy                           0.95       733\n",
      "   macro avg       0.92      0.96      0.94       733\n",
      "weighted avg       0.96      0.95      0.95       733\n",
      "\n"
     ]
    }
   ],
   "source": [
    "from sklearn.metrics import classification_report\n",
    "\n",
    "# Calculate and print classification report\n",
    "print(\"Classification Report:\")\n",
    "print(classification_report(y_test_binary[:733], y_pred_binary))"
   ]
  },
  {
   "cell_type": "code",
   "execution_count": 344,
   "id": "3594c293",
   "metadata": {
    "scrolled": true
   },
   "outputs": [
    {
     "name": "stdout",
     "output_type": "stream",
     "text": [
      "Croc Textured Two Fold Wallet\n",
      "No {'No': 0.7121512293815613}\n",
      "\n",
      "Men Striped Sliders\n",
      "Yes {'Yes': 0.9679132699966431}\n",
      "\n",
      "Printed A-line Kurta\n",
      "No {'No': 0.5195634365081787}\n",
      "\n",
      "Girls Floral Printed T-shirt\n",
      "Yes {'Yes': 0.5957861542701721}\n",
      "\n",
      "Women Printed Kurta with Skirt\n",
      "Yes {'Yes': 0.7515829205513}\n",
      "\n",
      "Floral Cotton Maxi Dress\n",
      "Yes {'Yes': 0.8700396418571472}\n",
      "\n",
      "Fitted Crop Top\n",
      "Yes {'Yes': 0.962540864944458}\n",
      "\n",
      "Men Mesh Running Shoes\n",
      "Yes {'Yes': 0.9768970608711243}\n",
      "\n",
      "Men Checked Pullover\n",
      "Yes {'Yes': 0.9679132699966431}\n",
      "\n",
      "Girls Cotton Jersey Top\n",
      "Yes {'Yes': 0.9314157962799072}\n",
      "\n",
      "Ethnic Motifs Kaftan Dress\n",
      "Yes {'Yes': 0.8991736769676208}\n",
      "\n",
      "Leather Wedge Sandals with Tassels\n",
      "Yes {'Yes': 0.8526319861412048}\n",
      "\n",
      "Leather Wedge Pumps\n",
      "Yes {'Yes': 0.6943241953849792}\n",
      "\n",
      "V015 Professional Hair Trimmer\n",
      "Yes {'Yes': 0.9789875149726868}\n",
      "\n",
      "Women Open Toe Flats\n",
      "Yes {'Yes': 0.5097216367721558}\n",
      "\n"
     ]
    }
   ],
   "source": [
    "product_titles = [\n",
    "    \"Croc Textured Two Fold Wallet\",\n",
    "    \"Men Striped Sliders\",\n",
    "    \"Printed A-line Kurta\",\n",
    "    \"Girls Floral Printed T-shirt\",\n",
    "    \"Women Printed Kurta with Skirt\",\n",
    "    \"Floral Cotton Maxi Dress\",\n",
    "    \"Fitted Crop Top\",\n",
    "    \"Men Mesh Running Shoes\",\n",
    "    \"Men Checked Pullover\",\n",
    "    \"Girls Cotton Jersey Top\",\n",
    "    \"Ethnic Motifs Kaftan Dress\",\n",
    "    \"Leather Wedge Sandals with Tassels\",\n",
    "    \"Leather Wedge Pumps\",\n",
    "    \"V015 Professional Hair Trimmer\",\n",
    "    \"Women Open Toe Flats\"\n",
    "]\n",
    "\n",
    "for title in product_titles:\n",
    "    y_pred, prediction = predict(title, tokenizer=tokenizer, model=model, labels_legend_inverted=labels_legend_inverted)\n",
    "    print(title)\n",
    "    print(y_pred, prediction)\n",
    "    print()\n"
   ]
  },
  {
   "cell_type": "code",
   "execution_count": 345,
   "id": "a784ed21",
   "metadata": {
    "scrolled": true
   },
   "outputs": [
    {
     "name": "stdout",
     "output_type": "stream",
     "text": [
      "LIFEWORTH Private Label Extra Strength Health Herbal Supplements Tongkat Ali Extract For Men With Maca\n",
      "Yes {'Yes': 0.993017315864563}\n",
      "\n",
      "Private Label NMN Supplement Anti Aging Purity Capsule\n",
      "No {'No': 0.9660723209381104}\n",
      "\n",
      "Dearjoyee sexy dolls for men silicon xxx-18-www-sexy-girl-doll-video/of real vagina and anus/porno sexi with dolls\n",
      "No {'No': 0.9999964237213135}\n",
      "\n",
      "10 Modes Clitoral Stimulator Female Masturbator Bullet Vibrator Sex Toys Makeup Brush Vibrator\n",
      "No {'No': 0.9999982118606567}\n",
      "\n",
      "The New Rechargeable Vibrator Wand - 12 Patterns G Spot Vibrators Clit Vibrator Sex Toys Personal Wand Massager\n",
      "No {'No': 0.9999971389770508}\n",
      "\n",
      "Quaige 3 in 1 mini muneca del sexo otros productos sexuales munecas de plastico para adultos boneco sexual\n",
      "No {'No': 0.93863445520401}\n",
      "\n",
      "Wholesale Cheap Price Sex Products Adult Toy Female Clitoris Vibrator Silicone G Spot Rabbit Vibrator Sex Toy For Women\n",
      "No {'No': 0.9999967813491821}\n",
      "\n",
      "Strong Sleeping Pills 1000 Mg Melatonin Capsule Powder Extract Sleep Improving Private Label\n",
      "No {'No': 0.9939086437225342}\n",
      "\n",
      "US warehouse deliver easy use mens sex toys vagina pussy dolls excellent quality sex dolls big butt sex toy\n",
      "No {'No': 0.9999990463256836}\n",
      "\n",
      "Wholesale Price Veterinary Weight Gain Supplements For Animals without side effects and maximum efficiency\n",
      "No {'No': 0.8698254823684692}\n",
      "\n"
     ]
    }
   ],
   "source": [
    "product_titles = [\n",
    "    \"LIFEWORTH Private Label Extra Strength Health Herbal Supplements Tongkat Ali Extract For Men With Maca\",\n",
    "    \"Private Label NMN Supplement Anti Aging Purity Capsule\",\n",
    "    \"Dearjoyee sexy dolls for men silicon xxx-18-www-sexy-girl-doll-video/of real vagina and anus/porno sexi with dolls\",\n",
    "    \"10 Modes Clitoral Stimulator Female Masturbator Bullet Vibrator Sex Toys Makeup Brush Vibrator\",\n",
    "    \"The New Rechargeable Vibrator Wand - 12 Patterns G Spot Vibrators Clit Vibrator Sex Toys Personal Wand Massager\",\n",
    "    \"Quaige 3 in 1 mini muneca del sexo otros productos sexuales munecas de plastico para adultos boneco sexual\",\n",
    "    \"Wholesale Cheap Price Sex Products Adult Toy Female Clitoris Vibrator Silicone G Spot Rabbit Vibrator Sex Toy For Women\",\n",
    "    \"Strong Sleeping Pills 1000 Mg Melatonin Capsule Powder Extract Sleep Improving Private Label\",\n",
    "    \"US warehouse deliver easy use mens sex toys vagina pussy dolls excellent quality sex dolls big butt sex toy\",\n",
    "    \"Wholesale Price Veterinary Weight Gain Supplements For Animals without side effects and maximum efficiency\"\n",
    "\n",
    "]\n",
    "\n",
    "for title in product_titles:\n",
    "    y_pred, prediction = predict(title, tokenizer=tokenizer, model=model, labels_legend_inverted=labels_legend_inverted)\n",
    "    print(title)\n",
    "    print(y_pred, prediction)\n",
    "    print()"
   ]
  },
  {
   "cell_type": "code",
   "execution_count": 346,
   "id": "203e19c9",
   "metadata": {},
   "outputs": [],
   "source": [
    "#no for v2,v3,\n",
    "#yes for v1,v4\n"
   ]
  },
  {
   "cell_type": "code",
   "execution_count": null,
   "id": "0c5488b4",
   "metadata": {
    "scrolled": false
   },
   "outputs": [],
   "source": []
  },
  {
   "cell_type": "code",
   "execution_count": 354,
   "id": "ce87c9a3",
   "metadata": {},
   "outputs": [],
   "source": [
    "import pandas as pd\n",
    "data = pd.read_csv('data/data.txt')\n",
    "product_titles =data.tail(200)[\"Name of Product\"].tolist()\n",
    "\n",
    "yes=0\n",
    "no=0\n",
    "for title in product_titles:\n",
    "    y_pred, prediction = predict(title, tokenizer=tokenizer, model=model, labels_legend_inverted=labels_legend_inverted)\n",
    "    \"\"\"print(title)\n",
    "    print(y_pred, prediction)\n",
    "    print()\"\"\"\n",
    "    if y_pred == \"No\":\n",
    "        no+=1\n",
    "    else:\n",
    "        yes+=1\n",
    "        "
   ]
  },
  {
   "cell_type": "code",
   "execution_count": 355,
   "id": "ab29c241",
   "metadata": {},
   "outputs": [
    {
     "name": "stdout",
     "output_type": "stream",
     "text": [
      "yes :  6\n",
      "no :  194\n"
     ]
    }
   ],
   "source": [
    "print(\"yes : \",yes)\n",
    "print(\"no : \",no)"
   ]
  },
  {
   "cell_type": "code",
   "execution_count": null,
   "id": "eb5c9b9d",
   "metadata": {},
   "outputs": [],
   "source": [
    "df=data.tail(200)\n",
    "print('the data with No in Is Accepted Policy',len(df[df[\"Is Accepted Policy\"]==\"No\"]))\n",
    "print('the data with Yes in Is Accepted Policy',len(df[df[\"Is Accepted Policy\"]==\"Yes\"]))"
   ]
  },
  {
   "cell_type": "code",
   "execution_count": null,
   "id": "c386705c",
   "metadata": {},
   "outputs": [],
   "source": []
  }
 ],
 "metadata": {
  "kernelspec": {
   "display_name": "Python 3 (ipykernel)",
   "language": "python",
   "name": "python3"
  },
  "language_info": {
   "codemirror_mode": {
    "name": "ipython",
    "version": 3
   },
   "file_extension": ".py",
   "mimetype": "text/x-python",
   "name": "python",
   "nbconvert_exporter": "python",
   "pygments_lexer": "ipython3",
   "version": "3.9.12"
  }
 },
 "nbformat": 4,
 "nbformat_minor": 5
}
