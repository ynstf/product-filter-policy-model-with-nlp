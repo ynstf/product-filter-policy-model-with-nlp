{
 "cells": [
  {
   "cell_type": "markdown",
   "id": "af4eca14",
   "metadata": {},
   "source": [
    "## load al files from model folder"
   ]
  },
  {
   "cell_type": "code",
   "execution_count": 15,
   "id": "421f3cc5",
   "metadata": {},
   "outputs": [],
   "source": [
    "model_folder = \"model\""
   ]
  },
  {
   "cell_type": "markdown",
   "id": "73930a93",
   "metadata": {},
   "source": [
    "## Load model"
   ]
  },
  {
   "cell_type": "code",
   "execution_count": 16,
   "id": "563cc320",
   "metadata": {},
   "outputs": [],
   "source": [
    "from tensorflow import keras\n",
    "\n",
    "model = keras.models.load_model(f'{model_folder}/model_v2.h5')"
   ]
  },
  {
   "cell_type": "markdown",
   "id": "cfd06b33",
   "metadata": {},
   "source": [
    "## Load tokenizer"
   ]
  },
  {
   "cell_type": "code",
   "execution_count": 17,
   "id": "77f0e6e5",
   "metadata": {},
   "outputs": [],
   "source": [
    "from tensorflow.keras.preprocessing.text import tokenizer_from_json\n",
    "import json\n",
    "\n",
    "# Load tokenizer configuration from the file\n",
    "with open(f'{model_folder}/tokenizer_config.json', 'r') as json_file:\n",
    "    tokenizer_config_str = json_file.read()\n",
    "\n",
    "# Create a tokenizer instance using tokenizer_from_json\n",
    "tokenizer = tokenizer_from_json(tokenizer_config_str)\n"
   ]
  },
  {
   "cell_type": "markdown",
   "id": "d9629140",
   "metadata": {},
   "source": [
    "## Load the training data"
   ]
  },
  {
   "cell_type": "code",
   "execution_count": 18,
   "id": "926335b5",
   "metadata": {},
   "outputs": [],
   "source": [
    "import pickle\n",
    "\n",
    "# Specify the file path where you saved the data\n",
    "pickle_file_path = f'{model_folder}/training_data.pkl'\n",
    "\n",
    "# Load the training_data dictionary from the Pickle file\n",
    "with open(pickle_file_path, 'rb') as pickle_file:\n",
    "    loaded_training_data = pickle.load(pickle_file)\n",
    "\n",
    "# Access the loaded data\n",
    "max_words = loaded_training_data['max_words']\n",
    "max_sequence = loaded_training_data['max_sequence']\n",
    "legend = loaded_training_data['legend']\n",
    "labels_legend_inverted = loaded_training_data['labels_legend_inverted']"
   ]
  },
  {
   "cell_type": "markdown",
   "id": "6f940966",
   "metadata": {},
   "source": [
    "## define the stem function"
   ]
  },
  {
   "cell_type": "code",
   "execution_count": 19,
   "id": "0749944c",
   "metadata": {
    "scrolled": true
   },
   "outputs": [
    {
     "name": "stderr",
     "output_type": "stream",
     "text": [
      "[nltk_data] Downloading package punkt to\n",
      "[nltk_data]     C:\\Users\\pc\\AppData\\Roaming\\nltk_data...\n",
      "[nltk_data]   Package punkt is already up-to-date!\n"
     ]
    }
   ],
   "source": [
    "import nltk\n",
    "from nltk.stem import PorterStemmer\n",
    "from nltk.tokenize import word_tokenize\n",
    "nltk.download('punkt')  # Download the punkt tokenizer if you haven't already\n",
    "\n",
    "def stem_text(text):\n",
    "    stemmer = PorterStemmer()\n",
    "    tokens = word_tokenize(text)\n",
    "    stemmed_tokens = [stemmer.stem(word) for word in tokens]\n",
    "    stemmed_text = ' '.join(stemmed_tokens)\n",
    "    return stemmed_text"
   ]
  },
  {
   "cell_type": "markdown",
   "id": "b3013fc2",
   "metadata": {},
   "source": [
    "## define the pridection function"
   ]
  },
  {
   "cell_type": "code",
   "execution_count": 20,
   "id": "f3edbac8",
   "metadata": {},
   "outputs": [],
   "source": [
    "import numpy as np\n",
    "from tensorflow.keras.preprocessing.sequence import pad_sequences\n",
    "\n",
    "def predict(text_str, max_sequence=30, tokenizer=None, model=None, labels_legend_inverted=None):\n",
    "    if not tokenizer or not model or not labels_legend_inverted:\n",
    "        return None\n",
    "    \n",
    "    #stemming the input text\n",
    "    text_str = stem_text(text_str)\n",
    "    \n",
    "    # Tokenize the input text\n",
    "    sequences = tokenizer.texts_to_sequences([text_str])\n",
    "    \n",
    "    # Pad the sequence\n",
    "    x_input = pad_sequences(sequences, maxlen=max_sequence)\n",
    "    \n",
    "    # Predict using the model\n",
    "    y_output = model.predict(x_input,verbose=0)\n",
    "    \n",
    "    # Assuming you want to get the label with the highest probability\n",
    "    top_y_index = np.argmax(y_output, axis=-1)[0]\n",
    "    preds = y_output[0][top_y_index]\n",
    "    \n",
    "    labeled_preds = {labels_legend_inverted[str(top_y_index)]: float(preds)}\n",
    "    \n",
    "    return labels_legend_inverted[str(top_y_index)],labeled_preds\n",
    "\n",
    "\n"
   ]
  },
  {
   "cell_type": "markdown",
   "id": "2f7abd09",
   "metadata": {},
   "source": [
    "## Example usage"
   ]
  },
  {
   "cell_type": "code",
   "execution_count": 37,
   "id": "4841484a",
   "metadata": {
    "scrolled": true
   },
   "outputs": [
    {
     "name": "stdout",
     "output_type": "stream",
     "text": [
      "best drugs 5ml --------------> No {'No': 0.9997128844261169}\n",
      "gun to kill your enemy --------------> No {'No': 0.9370914101600647}\n",
      "pc gamer --------------> Yes {'Yes': 0.9720265865325928}\n"
     ]
    }
   ],
   "source": [
    "# Example usage\n",
    "msg=\"best drugs 5ml\"\n",
    "y_pred,prediction = predict(msg, tokenizer=tokenizer, model=model, labels_legend_inverted=labels_legend_inverted)\n",
    "print(msg,'-------------->',y_pred,prediction)\n",
    "\n",
    "\n",
    "msg=\"gun to kill your enemy\"\n",
    "y_pred,prediction = predict(msg , tokenizer=tokenizer, model=model, labels_legend_inverted=labels_legend_inverted)\n",
    "print(msg,'-------------->',y_pred,prediction)\n",
    "\n",
    "msg=\"pc gamer\"\n",
    "y_pred,prediction = predict(msg, tokenizer=tokenizer, model=model, labels_legend_inverted=labels_legend_inverted)\n",
    "print(msg,'-------------->',y_pred,prediction)\n"
   ]
  },
  {
   "cell_type": "markdown",
   "id": "f5aad37d",
   "metadata": {},
   "source": [
    "## test the model"
   ]
  },
  {
   "cell_type": "code",
   "execution_count": 38,
   "id": "728af92f",
   "metadata": {},
   "outputs": [
    {
     "data": {
      "text/html": [
       "<div>\n",
       "<style scoped>\n",
       "    .dataframe tbody tr th:only-of-type {\n",
       "        vertical-align: middle;\n",
       "    }\n",
       "\n",
       "    .dataframe tbody tr th {\n",
       "        vertical-align: top;\n",
       "    }\n",
       "\n",
       "    .dataframe thead th {\n",
       "        text-align: right;\n",
       "    }\n",
       "</style>\n",
       "<table border=\"1\" class=\"dataframe\">\n",
       "  <thead>\n",
       "    <tr style=\"text-align: right;\">\n",
       "      <th></th>\n",
       "      <th>Name of Product</th>\n",
       "      <th>Is Accepted Policy</th>\n",
       "    </tr>\n",
       "  </thead>\n",
       "  <tbody>\n",
       "    <tr>\n",
       "      <th>0</th>\n",
       "      <td>Ultra-Thin Gaming Laptop with RGB Backlit Keyb...</td>\n",
       "      <td>Yes</td>\n",
       "    </tr>\n",
       "    <tr>\n",
       "      <th>1</th>\n",
       "      <td>Deluxe Espresso Machine with Integrated Milk F...</td>\n",
       "      <td>Yes</td>\n",
       "    </tr>\n",
       "    <tr>\n",
       "      <th>2</th>\n",
       "      <td>Advanced Running Shoes with Responsive Cushion...</td>\n",
       "      <td>Yes</td>\n",
       "    </tr>\n",
       "    <tr>\n",
       "      <th>3</th>\n",
       "      <td>Latest iPhone Pro Max with Triple-Camera Syste...</td>\n",
       "      <td>Yes</td>\n",
       "    </tr>\n",
       "    <tr>\n",
       "      <th>4</th>\n",
       "      <td>Next-Gen Gaming Console with 4K Graphics and E...</td>\n",
       "      <td>Yes</td>\n",
       "    </tr>\n",
       "    <tr>\n",
       "      <th>...</th>\n",
       "      <td>...</td>\n",
       "      <td>...</td>\n",
       "    </tr>\n",
       "    <tr>\n",
       "      <th>3085</th>\n",
       "      <td>LiBa Shower Curtain Liners</td>\n",
       "      <td>Yes</td>\n",
       "    </tr>\n",
       "    <tr>\n",
       "      <th>3086</th>\n",
       "      <td>Dremel rotary. pet. oscillating tools and more</td>\n",
       "      <td>Yes</td>\n",
       "    </tr>\n",
       "    <tr>\n",
       "      <th>3087</th>\n",
       "      <td>KURONO Stationary Exercise Bike for Home Worko...</td>\n",
       "      <td>Yes</td>\n",
       "    </tr>\n",
       "    <tr>\n",
       "      <th>3088</th>\n",
       "      <td>Bekind Apex 2-in-1 Hair Straightener Flat Iron...</td>\n",
       "      <td>Yes</td>\n",
       "    </tr>\n",
       "    <tr>\n",
       "      <th>3089</th>\n",
       "      <td>Graco and Century Car Seats and more</td>\n",
       "      <td>Yes</td>\n",
       "    </tr>\n",
       "  </tbody>\n",
       "</table>\n",
       "<p>2341 rows × 2 columns</p>\n",
       "</div>"
      ],
      "text/plain": [
       "                                        Name of Product Is Accepted Policy\n",
       "0     Ultra-Thin Gaming Laptop with RGB Backlit Keyb...                Yes\n",
       "1     Deluxe Espresso Machine with Integrated Milk F...                Yes\n",
       "2     Advanced Running Shoes with Responsive Cushion...                Yes\n",
       "3     Latest iPhone Pro Max with Triple-Camera Syste...                Yes\n",
       "4     Next-Gen Gaming Console with 4K Graphics and E...                Yes\n",
       "...                                                 ...                ...\n",
       "3085                         LiBa Shower Curtain Liners                Yes\n",
       "3086     Dremel rotary. pet. oscillating tools and more                Yes\n",
       "3087  KURONO Stationary Exercise Bike for Home Worko...                Yes\n",
       "3088  Bekind Apex 2-in-1 Hair Straightener Flat Iron...                Yes\n",
       "3089               Graco and Century Car Seats and more                Yes\n",
       "\n",
       "[2341 rows x 2 columns]"
      ]
     },
     "execution_count": 38,
     "metadata": {},
     "output_type": "execute_result"
    }
   ],
   "source": [
    "import pandas as pd\n",
    "data = pd.read_csv('data.txt')\n",
    "\n",
    "data = data[data[\"Is Accepted Policy\"]!=\"Is Accepted Policy\"]\n",
    "data = data.drop_duplicates(subset='Name of Product', keep='first')\n",
    "\n",
    "data"
   ]
  },
  {
   "cell_type": "code",
   "execution_count": 39,
   "id": "c470c210",
   "metadata": {},
   "outputs": [],
   "source": [
    "from sklearn.model_selection import train_test_split\n",
    "\n",
    "X = data[\"Name of Product\"].tolist()\n",
    "y = data[\"Is Accepted Policy\"].tolist()\n",
    "X_train, X_test, y_train, y_test = train_test_split(X, y, test_size=0.33, random_state=42)\n"
   ]
  },
  {
   "cell_type": "code",
   "execution_count": 40,
   "id": "5c497031",
   "metadata": {},
   "outputs": [
    {
     "name": "stdout",
     "output_type": "stream",
     "text": [
      "Classification Report:\n",
      "              precision    recall  f1-score   support\n",
      "\n",
      "           0       0.89      0.45      0.60       343\n",
      "           1       0.69      0.96      0.80       430\n",
      "\n",
      "    accuracy                           0.73       773\n",
      "   macro avg       0.79      0.70      0.70       773\n",
      "weighted avg       0.78      0.73      0.71       773\n",
      "\n"
     ]
    }
   ],
   "source": [
    "from sklearn.metrics import classification_report\n",
    "\n",
    "# Function to convert 'Yes' and 'No' to binary labels (1 and 0)\n",
    "def convert_labels(label):\n",
    "    return 1 if label == 'Yes' else 0\n",
    "\n",
    "# Convert 'Is Accepted Policy' to binary labels for y_test\n",
    "y_test_binary = [convert_labels(label) for label in y_test]\n",
    "\n",
    "# Initialize lists to store predicted labels\n",
    "y_pred_binary = []\n",
    "\n",
    "# Predict labels for X_test\n",
    "for i in range(len(X_test)):\n",
    "    y_pred, _ = predict(X_test[i], tokenizer=tokenizer, model=model, labels_legend_inverted=labels_legend_inverted)\n",
    "    y_pred_binary.append(convert_labels(y_pred))\n",
    "\n",
    "# Calculate and print classification report\n",
    "print(\"Classification Report:\")\n",
    "print(classification_report(y_test_binary, y_pred_binary))\n"
   ]
  },
  {
   "cell_type": "code",
   "execution_count": null,
   "id": "dcdd2c8d",
   "metadata": {},
   "outputs": [],
   "source": []
  }
 ],
 "metadata": {
  "kernelspec": {
   "display_name": "Python 3 (ipykernel)",
   "language": "python",
   "name": "python3"
  },
  "language_info": {
   "codemirror_mode": {
    "name": "ipython",
    "version": 3
   },
   "file_extension": ".py",
   "mimetype": "text/x-python",
   "name": "python",
   "nbconvert_exporter": "python",
   "pygments_lexer": "ipython3",
   "version": "3.9.12"
  }
 },
 "nbformat": 4,
 "nbformat_minor": 5
}
